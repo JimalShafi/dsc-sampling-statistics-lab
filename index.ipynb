{
 "cells": [
  {
   "cell_type": "markdown",
   "metadata": {},
   "source": [
    "# Sampling Statistics - Lab\n",
    "\n",
    "## Introduction\n",
    "\n",
    "Typically, we don't know statistics about a population itself. The only way to know these for sure is to survey the entirety of the population, which is typically impractical. For example, to know the true salary mean of individuals in the United States, we would have to survey each and every individual.\n",
    "\n",
    "In lieu of being able to know the true underlying population statistics, we estimate them. Point estimates are estimates of population parameters based on sample data. For instance, if we wanted to know the average age of registered voters in the U.S., we could take a survey of registered voters and then use the average age of the respondents as a point estimate of the average age of the population as a whole. \n",
    "\n",
    "The average of a sample is known as the sample mean. Sampling distribution can be thought of as relative frequency distribution with a large number of samples. A relative frequency distribution tends to approach the sampling distribution as the number of samples increase.\n",
    "\n",
    "## Objectives\n",
    "You will be able to:\n",
    "\n",
    "* Calculate and interpret sampling error\n",
    "* Explain how sample size is related to sampling error\n",
    "* Explain how the sampling error is related to population standard deviation\n",
    "\n",
    "## Background and Terminologies \n",
    "\n",
    "In order to learn the **population mean**, we don't measure the whole population. Instead, we take a random sample and use **sample mean, ( x_bar or $\\bar{x}$ )** to estimate the population mean **( mu or $\\mu$ )**. The sample mean is usually not exactly the same as the population mean and depends upon the values of samples chosen, however, the population mean remains fixed. While using the **sample mean** to estimate the population mean, we come across the **sampling error**, which directly relates to the **standard deviation** of a sampling statistic (e.g. mean values). This difference can be caused by many factors including poor survey design, biased sampling methods, and the randomness inherent to drawing a sample from a population.\n",
    "\n",
    "Let's learn about these concepts through an example."
   ]
  },
  {
   "cell_type": "markdown",
   "metadata": {},
   "source": [
    ">**Pumpkin Weights**\n",
    "\n",
    ">The population is the weight of six pumpkins (in pounds) displayed in a carnival \"Guess the Weight\" game booth. You are asked to guess the average weight of the six pumpkins by picking two pumpkins at a time randomly until all pumpkins have been used.\n",
    "\n",
    "| Pumpkin | Weight (in pounds) |\n",
    "|---------|--------------------|\n",
    "| A       |       19           |\n",
    "| B       |       14           |\n",
    "| C       |       15           |\n",
    "| D       |       9            |\n",
    "| E       |       10           |\n",
    "| F       |       17           |"
   ]
  },
  {
   "cell_type": "markdown",
   "metadata": {},
   "source": [
    "## Step 1\n",
    "\n",
    "Let's calculate the population mean first, which we calculate as:\n",
    "\n",
    "**$\\large \\mu = \\frac{\\text{sum of all elements}}{N}$**, where N is population size."
   ]
  },
  {
   "cell_type": "code",
   "execution_count": 1,
   "metadata": {},
   "outputs": [],
   "source": [
    "# Import necessary libraries\n",
    "import numpy as np\n",
    "from collections import Counter\n",
    "import matplotlib.pyplot as plt\n",
    "import itertools"
   ]
  },
  {
   "cell_type": "markdown",
   "metadata": {},
   "source": [
    "Create two lists, one with pumpkin names and one with the respective pumpkin weights. Combine the lists to create a pumpkin directory with the pumpkin names as keys and the pumpkin weights as values. "
   ]
  },
  {
   "cell_type": "code",
   "execution_count": 2,
   "metadata": {},
   "outputs": [
    {
     "name": "stdout",
     "output_type": "stream",
     "text": [
      "{'A': 19, 'B': 14, 'C': 15, 'D': 9, 'E': 10, 'F': 17}\n"
     ]
    }
   ],
   "source": [
    "# Create two lists with pumpkin names and weights\n",
    "\n",
    "pumpkin = ['A', 'B', 'C', 'D', 'E', 'F']\n",
    "weights = [19, 14, 15, 9, 10, 17]\n",
    "\n",
    "# Combine both lists to create a dictionary\n",
    "pumpkin_dict = dict(zip(pumpkin, weights))\n",
    "\n",
    "print(pumpkin_dict)"
   ]
  },
  {
   "cell_type": "markdown",
   "metadata": {},
   "source": [
    "Now, let's try to calculate the mean of the pumpkin population and also visualize the weight distribution. "
   ]
  },
  {
   "cell_type": "code",
   "execution_count": 3,
   "metadata": {},
   "outputs": [
    {
     "data": {
      "text/plain": [
       "14.0"
      ]
     },
     "execution_count": 3,
     "metadata": {},
     "output_type": "execute_result"
    }
   ],
   "source": [
    "# Calculate the population mean from pumpkin_dict\n",
    "\n",
    "def calculate_mu(pumpkin_dict):\n",
    "    weights = list(pumpkin_dict.values())\n",
    "    mu = np.sum(weights) / len(weights)\n",
    "    return mu \n",
    "\n",
    "mu = calculate_mu(pumpkin_dict)\n",
    "mu\n",
    "\n",
    "# 14.0"
   ]
  },
  {
   "cell_type": "markdown",
   "metadata": {},
   "source": [
    "That was a pretty a straightforward exercise. Let's use the data we have so far to visualize the weights of individual pumpkins and mean weight. "
   ]
  },
  {
   "cell_type": "code",
   "execution_count": 5,
   "metadata": {},
   "outputs": [
    {
     "name": "stdout",
     "output_type": "stream",
     "text": [
      "Population mean: 14.0\n"
     ]
    },
    {
     "data": {
      "image/png": "[encoded data removed]",
      "text/plain": [
       "<Figure size 640x480 with 1 Axes>"
      ]
     },
     "metadata": {},
     "output_type": "display_data"
    }
   ],
   "source": [
    "# Plot a bar graph showing weights of pumpkins and highlight the mean weight\n",
    "   \n",
    "# Function to plot the weight distribution and highlight the mean weight\n",
    "def plot_weight_distribution(pumpkin_dict):\n",
    "    pumpkins = list(pumpkin_dict.keys())\n",
    "    weights = list(pumpkin_dict.values())\n",
    "    mu = calculate_mu(pumpkin_dict)\n",
    "    \n",
    "    plt.bar(pumpkins, weights, color='orange')\n",
    "    plt.axhline(mu, color='red', linestyle='dashed', linewidth=2, label=f'Mean Weight: {mu}')\n",
    "    plt.xlabel('Pumpkins')\n",
    "    plt.ylabel('Weight (in pounds)')\n",
    "    plt.title('Weight Distribution of Pumpkins')\n",
    "    plt.legend()\n",
    "    plt.show()\n",
    "\n",
    "# Calculate the population mean\n",
    "mu = calculate_mu(pumpkin_dict)\n",
    "print(f\"Population mean: {mu}\")  # Should print 14.0\n",
    "\n",
    "# Plot the weight distribution and highlight the mean weight\n",
    "plot_weight_distribution(pumpkin_dict)"
   ]
  },
  {
   "cell_type": "markdown",
   "metadata": {},
   "source": [
    "We can see only one pumpkin has a weight which is equal to the mean weight (B:14). Let's try to simulate the random sampling process as stated below. "
   ]
  },
  {
   "cell_type": "markdown",
   "metadata": {},
   "source": [
    "## Step 2 : Calculate the mean of samples\n",
    "\n",
    "From the `pumpkin_dict`, we can now obtain the sampling distributions of the sample mean for a given sample size. We'll do this while sampling *without* replacement (to reflect the idea that one can have two pumpkins at a given time, and will be taken out of population once used). \n",
    "\n",
    "Let's also try to make the code more flexible to allow sampling of any number of pumpkins from the population to study the effect of the sample size on the sample mean. "
   ]
  },
  {
   "cell_type": "markdown",
   "metadata": {},
   "source": [
    "To achieve this, first, we need to identify all the possible combinations that can be observed by choosing 2 pumpkins from the population, following the game rule."
   ]
  },
  {
   "cell_type": "code",
   "execution_count": 6,
   "metadata": {},
   "outputs": [
    {
     "name": "stdout",
     "output_type": "stream",
     "text": [
      "[('A', 'B'), ('A', 'C'), ('A', 'D'), ('A', 'E'), ('A', 'F'), ('B', 'C'), ('B', 'D'), ('B', 'E'), ('B', 'F'), ('C', 'D'), ('C', 'E'), ('C', 'F'), ('D', 'E'), ('D', 'F'), ('E', 'F')]\n"
     ]
    }
   ],
   "source": [
    "# Identify a sample size n \n",
    "n = 2 \n",
    "\n",
    "# Use itertools.combinations() to generate and print a list of combinations\n",
    "combs = list(itertools.combinations(pumpkin_dict.keys(), n))\n",
    "\n",
    "print(combs)\n",
    "\n",
    "\n",
    "# Using 2 samples, we can see 15 possible combinations as below:\n",
    "# [('A', 'B'), ('A', 'C'), ('A', 'D'), ('A', 'E'), ('A', 'F'), ('B', 'C'), ('B', 'D'), \n",
    "#  ('B', 'E'), ('B', 'F'), ('C', 'D'), ('C', 'E'), ('C', 'F'), ('D', 'E'), ('D', 'F'), \n",
    "#  ('E', 'F')]\n"
   ]
  },
  {
   "cell_type": "markdown",
   "metadata": {},
   "source": [
    "Great! We can now generate any number of combinations from the population (try changing the value of `n` above). The next step in the process is to calculate the mean of all possible combinations and study whether these means differ from the population mean, and whether sample size has any effect on estimating the population mean. \n",
    "\n",
    "Let's write a function that would include the code for generating combinations as above and also for identifying the mean for each sample. "
   ]
  },
  {
   "cell_type": "code",
   "execution_count": 13,
   "metadata": {},
   "outputs": [
    {
     "name": "stdout",
     "output_type": "stream",
     "text": [
      "Mean of population is: 12.5\n",
      "\n",
      "Using 2 samples, we can see 15 possible combinations as below:\n",
      "('A', 'B') 13.5\n",
      "('A', 'C') 14\n",
      "('A', 'D') 12.5\n",
      "('A', 'E') 13\n",
      "('A', 'F') 14.5\n",
      "('B', 'C') 12.5\n",
      "('B', 'D') 11\n",
      "('B', 'E') 11.5\n",
      "('B', 'F') 13\n",
      "('C', 'D') 11.5\n",
      "('C', 'E') 12\n",
      "('C', 'F') 13.5\n",
      "('D', 'E') 10.5\n",
      "('D', 'F') 12\n",
      "('E', 'F') 12.5\n",
      "The mean of all sample means mu_x_hat is: 12.5\n"
     ]
    }
   ],
   "source": [
    "\n",
    "from itertools import combinations\n",
    "from statistics import mean\n",
    "\n",
    "def sample_means(sample_size, data):\n",
    "    \"\"\"\n",
    "    This function takes in population data as a dictionary along with a chosen sample size \n",
    "    to generate all possible combinations of given sample size. \n",
    "    The function calculates the mean of each sample and returns:\n",
    "    a) a list of all combinations (as tuples) \n",
    "    b) a list of means for all samples\n",
    "    \"\"\"\n",
    "\n",
    "    n = sample_size\n",
    "\n",
    "    # Calculate the mean of population\n",
    "    mu = mean(data.values())\n",
    "    print(f\"Mean of population is: {mu}\")\n",
    "\n",
    "    # Generate all possible combinations using given sample size\n",
    "    combs = list(combinations(data.keys(), n))\n",
    "\n",
    "    # Calculate the mean weight (x_bar) for all the combinations (samples) using the given data\n",
    "    x_bar_list = []\n",
    "    for comb in combs:\n",
    "        sample_mean = mean(data[key] for key in comb)\n",
    "        x_bar_list.append(sample_mean)\n",
    "\n",
    "    return combs, x_bar_list\n",
    "\n",
    "# Example usage:\n",
    "pumpkin_dict = {'A': 15, 'B': 12, 'C': 13, 'D': 10, 'E': 11, 'F': 14}\n",
    "n = 2  # Sample size\n",
    "\n",
    "combs, means = sample_means(n, pumpkin_dict)\n",
    "\n",
    "# Print the sample combinations with their means\n",
    "print(f\"\\nUsing {n} samples, we can see {len(combs)} possible combinations as below:\")\n",
    "for i, comb in enumerate(combs):\n",
    "    print(f\"{comb} {means[i]}\")\n",
    "\n",
    "# Calculate and print the mean of all sample means\n",
    "mu_x_hat = mean(means)\n",
    "print(f\"The mean of all sample means mu_x_hat is: {mu_x_hat}\")\n",
    "\n",
    "\n",
    "\n",
    "# Using 2 samples, we can see 15 possible combinations as below:\n",
    "# The mean of all sample means mu_x_hat is: 14.0\n",
    "# ('A', 'B') 16.5\n",
    "# ('A', 'C') 17.0\n",
    "# ('A', 'D') 14.0\n",
    "# ('A', 'E') 14.5\n",
    "# ('A', 'F') 18.0\n",
    "# ('B', 'C') 14.5\n",
    "# ('B', 'D') 11.5\n",
    "# ('B', 'E') 12.0\n",
    "# ('B', 'F') 15.5\n",
    "# ('C', 'D') 12.0\n",
    "# ('C', 'E') 12.5\n",
    "# ('C', 'F') 16.0\n",
    "# ('D', 'E') 9.5\n",
    "# ('D', 'F') 13.0\n",
    "# ('E', 'F') 13.5\n",
    "# The mean of all sample means mu_x_hat is: 14.0"
   ]
  },
  {
   "cell_type": "markdown",
   "metadata": {},
   "source": [
    "Thus, even though each sample may give you an answer involving some error, the expected value is right at the target: exactly the population mean. In other words: \n",
    ">If one does the experiment over and over again, the overall average of the sample mean is exactly the population mean.\n",
    "\n",
    "In the output above, we can see that some mean values i.e. 14.5, 12, are being repeated in the combinations. We can develop a frequency table to identify the probability of seeing a different mean value. "
   ]
  },
  {
   "cell_type": "code",
   "execution_count": 14,
   "metadata": {},
   "outputs": [
    {
     "name": "stdout",
     "output_type": "stream",
     "text": [
      "\n",
      "Combinations with sample means and probability of each mean value:\n",
      "('A', 'B') 13.5 2/15\n",
      "('A', 'C') 14 1/15\n",
      "('A', 'D') 12.5 3/15\n",
      "('A', 'E') 13 2/15\n",
      "('A', 'F') 14.5 1/15\n",
      "('B', 'C') 12.5 3/15\n",
      "('B', 'D') 11 1/15\n",
      "('B', 'E') 11.5 2/15\n",
      "('B', 'F') 13 2/15\n",
      "('C', 'D') 11.5 2/15\n",
      "('C', 'E') 12 2/15\n",
      "('C', 'F') 13.5 2/15\n",
      "('D', 'E') 10.5 1/15\n",
      "('D', 'F') 12 2/15\n",
      "('E', 'F') 12.5 3/15\n"
     ]
    }
   ],
   "source": [
    "def calculate_probability(means):\n",
    "    '''\n",
    "    Input: a list of means (x_hats)\n",
    "    Output: a list of probabilities for each mean value\n",
    "    '''\n",
    "    freq = {}\n",
    "    for mean_value in means:\n",
    "        if mean_value in freq:\n",
    "            freq[mean_value] += 1\n",
    "        else:\n",
    "            freq[mean_value] = 1\n",
    "    \n",
    "    total_samples = len(means)\n",
    "    prob = [f\"{freq[mean_value]}/{total_samples}\" for mean_value in means]\n",
    "    \n",
    "    return prob\n",
    "\n",
    "# Example usage:\n",
    "probs = calculate_probability(means)\n",
    "\n",
    "# Print combinations with sample means and probability of each mean value\n",
    "print(\"\\nCombinations with sample means and probability of each mean value:\")\n",
    "for i, comb in enumerate(combs):\n",
    "    print(f\"{comb} {means[i]} {probs[i]}\")\n",
    "\n",
    "\n",
    "# ('A', 'B') 16.5 1/15\n",
    "# ('A', 'C') 17.0 1/15\n",
    "# ('A', 'D') 14.0 1/15\n",
    "# ('A', 'E') 14.5 2/15\n",
    "# ('A', 'F') 18.0 1/15\n",
    "# ('B', 'C') 14.5 2/15\n",
    "# ('B', 'D') 11.5 1/15\n",
    "# ('B', 'E') 12.0 2/15\n",
    "# ('B', 'F') 15.5 1/15\n",
    "# ('C', 'D') 12.0 2/15\n",
    "# ('C', 'E') 12.5 1/15\n",
    "# ('C', 'F') 16.0 1/15\n",
    "# ('D', 'E') 9.5 1/15\n",
    "# ('D', 'F') 13.0 1/15\n",
    "# ('E', 'F') 13.5 1/15\n"
   ]
  },
  {
   "cell_type": "markdown",
   "metadata": {},
   "source": [
    "Here, we see that the chance that the sample mean is exactly the population mean (i.e. 14) is only 1 in 15 (row 3), very small. It may also happen that the sample mean can never be the same value as the population mean. \n",
    "\n",
    "The difference between the sample mean and the population mean is known as the **Sampling Error**.  \n",
    "\n",
    ">When using the sample mean to estimate the population mean, some possible error will be involved since random sample means are also random.\n",
    "\n",
    "## Sample size and sampling error: \n",
    "\n",
    "Sample means cluster more closely around the population mean as the sample size increases. Thus, sampling error decreases as sample size increases."
   ]
  },
  {
   "cell_type": "markdown",
   "metadata": {},
   "source": [
    "Let's repeat the above exercise while increasing the sample size from 2 to 5. "
   ]
  },
  {
   "cell_type": "code",
   "execution_count": 15,
   "metadata": {},
   "outputs": [
    {
     "name": "stdout",
     "output_type": "stream",
     "text": [
      "Mean of population is: 12.5\n",
      "\n",
      "Using 5 samples with a population of size 6, we can see 6 possible combinations:\n",
      "1 ('A', 'B', 'C', 'D', 'E') 12.2 1/6\n",
      "2 ('A', 'B', 'C', 'D', 'F') 12.8 1/6\n",
      "3 ('A', 'B', 'C', 'E', 'F') 13 1/6\n",
      "4 ('A', 'B', 'D', 'E', 'F') 12.4 1/6\n",
      "5 ('A', 'C', 'D', 'E', 'F') 12.6 1/6\n",
      "6 ('B', 'C', 'D', 'E', 'F') 12 1/6\n",
      "The mean of all sample means mu_x_hat is: 12.5\n"
     ]
    }
   ],
   "source": [
    "n = 5\n",
    "from itertools import combinations\n",
    "from statistics import mean\n",
    "\n",
    "def sample_means(sample_size, data):\n",
    "    \"\"\"\n",
    "    This function takes in population data as a dictionary along with a chosen sample size \n",
    "    to generate all possible combinations of given sample size. \n",
    "    The function calculates the mean of each sample and returns:\n",
    "    a) a list of all combinations (as tuples) \n",
    "    b) a list of means for all samples\n",
    "    \"\"\"\n",
    "\n",
    "    n = sample_size\n",
    "\n",
    "    # Calculate the mean of population\n",
    "    mu = mean(data.values())\n",
    "    print(f\"Mean of population is: {mu}\")\n",
    "\n",
    "    # Generate all possible combinations using given sample size\n",
    "    combs = list(combinations(data.keys(), n))\n",
    "\n",
    "    # Calculate the mean weight (x_bar) for all the combinations (samples) using the given data\n",
    "    x_bar_list = []\n",
    "    for comb in combs:\n",
    "        sample_mean = mean(data[key] for key in comb)\n",
    "        x_bar_list.append(sample_mean)\n",
    "\n",
    "    return combs, x_bar_list\n",
    "\n",
    "def calculate_probability(means):\n",
    "    '''\n",
    "    Input: a list of means (x_hats)\n",
    "    Output: a list of probabilities for each mean value\n",
    "    '''\n",
    "    freq = {}\n",
    "    for mean_value in means:\n",
    "        if mean_value in freq:\n",
    "            freq[mean_value] += 1\n",
    "        else:\n",
    "            freq[mean_value] = 1\n",
    "    \n",
    "    total_samples = len(means)\n",
    "    prob = [f\"{freq[mean_value]}/{total_samples}\" for mean_value in means]\n",
    "    \n",
    "    return prob\n",
    "\n",
    "# Example usage:\n",
    "pumpkin_dict = {'A': 15, 'B': 12, 'C': 13, 'D': 10, 'E': 11, 'F': 14}\n",
    "n = 5  # Sample size\n",
    "\n",
    "combs, means = sample_means(n, pumpkin_dict)\n",
    "\n",
    "# Print the sample combinations with their means\n",
    "print(f\"\\nUsing {n} samples with a population of size {len(pumpkin_dict)}, we can see {len(combs)} possible combinations:\")\n",
    "for i, comb in enumerate(combs):\n",
    "    print(f\"{i+1} {comb} {means[i]} {calculate_probability(means)[i]}\")\n",
    "\n",
    "# Calculate and print the mean of all sample means\n",
    "mu_x_hat = mean(means)\n",
    "print(f\"The mean of all sample means mu_x_hat is: {mu_x_hat}\")\n",
    "\n",
    "# Use above functions to generate combinations as samples with means and calculate the probability of seeing\n",
    "# each mean value  with sample size = 5.\n",
    "\n",
    "# Using 5 samples with a population of size, we can see 6 possible combinations \n",
    "# The mean of all sample means mu_x_hat is: 14.0\n",
    "# 1 ('A', 'B', 'C', 'D', 'E') 13.4 1/6\n",
    "# 2 ('A', 'B', 'C', 'D', 'F') 14.8 1/6\n",
    "# 3 ('A', 'B', 'C', 'E', 'F') 15.0 1/6\n",
    "# 4 ('A', 'B', 'D', 'E', 'F') 13.8 1/6\n",
    "# 5 ('A', 'C', 'D', 'E', 'F') 14.0 1/6\n",
    "# 6 ('B', 'C', 'D', 'E', 'F') 13.0 1/6\n"
   ]
  },
  {
   "cell_type": "markdown",
   "metadata": {},
   "source": [
    "Again, we see that using the sample mean to estimate the population mean involves sampling error. Sample means do not fully agree with the population mean. The mean of sample means, however, is still 14. "
   ]
  },
  {
   "cell_type": "markdown",
   "metadata": {},
   "source": [
    "In order to fully appreciate the impact of sample size on estimating the population mean, let's try to visualize sample means and how the spread of values change when changing sample size. \n",
    "\n",
    "In a loop, run the above experiment with sample sizes ranging from 1 to 5 and measure and visualize the spread of values around the population mean. "
   ]
  },
  {
   "cell_type": "code",
   "execution_count": 16,
   "metadata": {},
   "outputs": [
    {
     "name": "stdout",
     "output_type": "stream",
     "text": [
      "Mean of population is: 12.5\n",
      "\n",
      "Using 1 samples with a population of size 6, we can see 6 possible combinations:\n",
      "1 ('A',) 15 1/6\n",
      "2 ('B',) 12 1/6\n",
      "3 ('C',) 13 1/6\n",
      "4 ('D',) 10 1/6\n",
      "5 ('E',) 11 1/6\n",
      "6 ('F',) 14 1/6\n",
      "The mean of all sample means mu_x_hat is: 12.5\n",
      "Mean of population is: 12.5\n",
      "\n",
      "Using 2 samples with a population of size 6, we can see 15 possible combinations:\n",
      "1 ('A', 'B') 13.5 2/15\n",
      "2 ('A', 'C') 14 1/15\n",
      "3 ('A', 'D') 12.5 3/15\n",
      "4 ('A', 'E') 13 2/15\n",
      "5 ('A', 'F') 14.5 1/15\n",
      "6 ('B', 'C') 12.5 3/15\n",
      "7 ('B', 'D') 11 1/15\n",
      "8 ('B', 'E') 11.5 2/15\n",
      "9 ('B', 'F') 13 2/15\n",
      "10 ('C', 'D') 11.5 2/15\n",
      "11 ('C', 'E') 12 2/15\n",
      "12 ('C', 'F') 13.5 2/15\n",
      "13 ('D', 'E') 10.5 1/15\n",
      "14 ('D', 'F') 12 2/15\n",
      "15 ('E', 'F') 12.5 3/15\n",
      "The mean of all sample means mu_x_hat is: 12.5\n",
      "Mean of population is: 12.5\n",
      "\n",
      "Using 3 samples with a population of size 6, we can see 20 possible combinations:\n",
      "1 ('A', 'B', 'C') 13.333333333333334 2/20\n",
      "2 ('A', 'B', 'D') 12.333333333333334 3/20\n",
      "3 ('A', 'B', 'E') 12.666666666666666 3/20\n",
      "4 ('A', 'B', 'F') 13.666666666666666 1/20\n",
      "5 ('A', 'C', 'D') 12.666666666666666 3/20\n",
      "6 ('A', 'C', 'E') 13 3/20\n",
      "7 ('A', 'C', 'F') 14 1/20\n",
      "8 ('A', 'D', 'E') 12 3/20\n",
      "9 ('A', 'D', 'F') 13 3/20\n",
      "10 ('A', 'E', 'F') 13.333333333333334 2/20\n",
      "11 ('B', 'C', 'D') 11.666666666666666 2/20\n",
      "12 ('B', 'C', 'E') 12 3/20\n",
      "13 ('B', 'C', 'F') 13 3/20\n",
      "14 ('B', 'D', 'E') 11 1/20\n",
      "15 ('B', 'D', 'F') 12 3/20\n",
      "16 ('B', 'E', 'F') 12.333333333333334 3/20\n",
      "17 ('C', 'D', 'E') 11.333333333333334 1/20\n",
      "18 ('C', 'D', 'F') 12.333333333333334 3/20\n",
      "19 ('C', 'E', 'F') 12.666666666666666 3/20\n",
      "20 ('D', 'E', 'F') 11.666666666666666 2/20\n",
      "The mean of all sample means mu_x_hat is: 12.5\n",
      "Mean of population is: 12.5\n",
      "\n",
      "Using 4 samples with a population of size 6, we can see 15 possible combinations:\n",
      "1 ('A', 'B', 'C', 'D') 12.5 3/15\n",
      "2 ('A', 'B', 'C', 'E') 12.75 2/15\n",
      "3 ('A', 'B', 'C', 'F') 13.5 1/15\n",
      "4 ('A', 'B', 'D', 'E') 12 2/15\n",
      "5 ('A', 'B', 'D', 'F') 12.75 2/15\n",
      "6 ('A', 'B', 'E', 'F') 13 2/15\n",
      "7 ('A', 'C', 'D', 'E') 12.25 2/15\n",
      "8 ('A', 'C', 'D', 'F') 13 2/15\n",
      "9 ('A', 'C', 'E', 'F') 13.25 1/15\n",
      "10 ('A', 'D', 'E', 'F') 12.5 3/15\n",
      "11 ('B', 'C', 'D', 'E') 11.5 1/15\n",
      "12 ('B', 'C', 'D', 'F') 12.25 2/15\n",
      "13 ('B', 'C', 'E', 'F') 12.5 3/15\n",
      "14 ('B', 'D', 'E', 'F') 11.75 1/15\n",
      "15 ('C', 'D', 'E', 'F') 12 2/15\n",
      "The mean of all sample means mu_x_hat is: 12.5\n",
      "Mean of population is: 12.5\n",
      "\n",
      "Using 5 samples with a population of size 6, we can see 6 possible combinations:\n",
      "1 ('A', 'B', 'C', 'D', 'E') 12.2 1/6\n",
      "2 ('A', 'B', 'C', 'D', 'F') 12.8 1/6\n",
      "3 ('A', 'B', 'C', 'E', 'F') 13 1/6\n",
      "4 ('A', 'B', 'D', 'E', 'F') 12.4 1/6\n",
      "5 ('A', 'C', 'D', 'E', 'F') 12.6 1/6\n",
      "6 ('B', 'C', 'D', 'E', 'F') 12 1/6\n",
      "The mean of all sample means mu_x_hat is: 12.5\n"
     ]
    },
    {
     "data": {
      "image/png": "[encoded data removed]",
      "text/plain": [
       "<Figure size 1200x800 with 1 Axes>"
      ]
     },
     "metadata": {},
     "output_type": "display_data"
    }
   ],
   "source": [
    "# Run a for loop to execute above code for sample size 1 to 5 and visualise the spread of sample \n",
    "# means\n",
    "# Define the population data\n",
    "pumpkin_dict = {'A': 15, 'B': 12, 'C': 13, 'D': 10, 'E': 11, 'F': 14}\n",
    "\n",
    "# Define the range of sample sizes\n",
    "sample_sizes = range(1, 6)\n",
    "\n",
    "# Initialize lists to store results\n",
    "all_means = []\n",
    "all_probs = []\n",
    "\n",
    "# Run the experiment for each sample size\n",
    "for n in sample_sizes:\n",
    "    combs, means = sample_means(n, pumpkin_dict)\n",
    "    probs = calculate_probability(means)\n",
    "    all_means.append(means)\n",
    "    all_probs.append(probs)\n",
    "    \n",
    "    # Print results for each sample size\n",
    "    print(f\"\\nUsing {n} samples with a population of size {len(pumpkin_dict)}, we can see {len(combs)} possible combinations:\")\n",
    "    for i, comb in enumerate(combs):\n",
    "        print(f\"{i+1} {comb} {means[i]} {probs[i]}\")\n",
    "    print(f\"The mean of all sample means mu_x_hat is: {mean(means)}\")\n",
    "\n",
    "# Plotting the spread of sample means\n",
    "plt.figure(figsize=(12, 8))\n",
    "for i, means in enumerate(all_means):\n",
    "    plt.scatter([i+1]*len(means), means, label=f'Sample Size {i+1}')\n",
    "\n",
    "plt.xlabel('Sample Size')\n",
    "plt.ylabel('Sample Means')\n",
    "plt.title('Spread of Sample Means with Varying Sample Sizes')\n",
    "plt.xticks(range(1, 6))\n",
    "plt.axhline(y=mean(pumpkin_dict.values()), color='r', linestyle='--', label='Population Mean')\n",
    "plt.legend()\n",
    "plt.grid(True)\n",
    "plt.tight_layout()\n",
    "plt.show()\n",
    "\n",
    "\n",
    "# Using 1 samples with a population of size, we can see 6 possible combinations \n",
    "# The mean of all sample means mu_x_hat is: 14.0\n",
    "\n",
    "# Using 2 samples with a population of size, we can see 15 possible combinations \n",
    "# The mean of all sample means mu_x_hat is: 14.0\n",
    "\n",
    "# Using 3 samples with a population of size, we can see 20 possible combinations \n",
    "# The mean of all sample means mu_x_hat is: 14.0\n",
    "\n",
    "# Using 4 samples with a population of size, we can see 15 possible combinations \n",
    "# The mean of all sample means mu_x_hat is: 14.0\n",
    "\n",
    "# Using 5 samples with a population of size, we can see 6 possible combinations \n",
    "# The mean of all sample means mu_x_hat is: 14.0"
   ]
  },
  {
   "cell_type": "markdown",
   "metadata": {},
   "source": [
    "We can see that with increasing sample size, the **spread** of sample means is reduced and the sample mean values tend to come closer to the population mean."
   ]
  },
  {
   "cell_type": "markdown",
   "metadata": {},
   "source": [
    "## Step 3: Calculate the standard error\n",
    "\n",
    "### So what is standard error?\n",
    "\n",
    "The **_Standard Error (SE)_** is very similar to the standard deviation. Both are measures of spread. The higher the number, the more spread out your data is. To put it simply, the two terms are essentially equal — but there is one important difference. While the standard error uses statistics (sample data), standard deviations use parameters (population data). We achieve this by dividing the standard deviation by the square root of the sample size.\n",
    "\n",
    "The calculation for the standard error of the sample mean is:\n",
    "\n",
    "## $$ \\sigma_{\\bar{x}} = \\frac{\\sigma}{\\sqrt{n}} \\approx \\frac{s}{\\sqrt{n}}$$\n",
    "\n",
    "Here, $\\sigma$ is the population standard deviation (which we will approximate with the sample standard deviation $s$) and $n$ is the sample size.\n",
    "\n",
    "Let's run the above block of code again and calculate the standard error according to the chosen sample size"
   ]
  },
  {
   "cell_type": "code",
   "execution_count": 17,
   "metadata": {},
   "outputs": [
    {
     "name": "stdout",
     "output_type": "stream",
     "text": [
      "Mean of population is: 12.5\n"
     ]
    },
    {
     "ename": "NameError",
     "evalue": "name 'stdev' is not defined",
     "output_type": "error",
     "traceback": [
      "\u001b[1;31m---------------------------------------------------------------------------\u001b[0m",
      "\u001b[1;31mNameError\u001b[0m                                 Traceback (most recent call last)",
      "Cell \u001b[1;32mIn[17], line 23\u001b[0m\n\u001b[0;32m     20\u001b[0m probs \u001b[38;5;241m=\u001b[39m calculate_probability(means)\n\u001b[0;32m     22\u001b[0m \u001b[38;5;66;03m# Calculate standard error\u001b[39;00m\n\u001b[1;32m---> 23\u001b[0m sample_std_dev \u001b[38;5;241m=\u001b[39m \u001b[43mstdev\u001b[49m(means)  \u001b[38;5;66;03m# Sample standard deviation\u001b[39;00m\n\u001b[0;32m     24\u001b[0m standard_error \u001b[38;5;241m=\u001b[39m sample_std_dev \u001b[38;5;241m/\u001b[39m math\u001b[38;5;241m.\u001b[39msqrt(n)\n\u001b[0;32m     26\u001b[0m all_means\u001b[38;5;241m.\u001b[39mappend(means)\n",
      "\u001b[1;31mNameError\u001b[0m: name 'stdev' is not defined"
     ]
    }
   ],
   "source": [
    "# Create empty lists for storing sample means, combinations and standard error for each iteration\n",
    "means_list = []\n",
    "combs_list = []\n",
    "err_list = []\n",
    "# Create a for loop with changing sample sizes\n",
    "    # Define the population data\n",
    "pumpkin_dict = {'A': 15, 'B': 12, 'C': 13, 'D': 10, 'E': 11, 'F': 14}\n",
    "\n",
    "# Define the range of sample sizes\n",
    "sample_sizes = range(1, 6)\n",
    "\n",
    "# Initialize lists to store results\n",
    "all_means = []\n",
    "all_probs = []\n",
    "all_errors = []\n",
    "\n",
    "# Run the experiment for each sample size\n",
    "for n in sample_sizes:\n",
    "    combs, means = sample_means(n, pumpkin_dict)\n",
    "    probs = calculate_probability(means)\n",
    "    \n",
    "    # Calculate standard error\n",
    "    sample_std_dev = stdev(means)  # Sample standard deviation\n",
    "    standard_error = sample_std_dev / math.sqrt(n)\n",
    "    \n",
    "    all_means.append(means)\n",
    "    all_probs.append(probs)\n",
    "    all_errors.append(standard_error)\n",
    "    \n",
    "    # Print results for each sample size\n",
    "    print(f\"\\nUsing {n} samples with a population of size {len(pumpkin_dict)}, we can see {len(combs)} possible combinations:\")\n",
    "    for i, comb in enumerate(combs):\n",
    "        print(f\"{i+1} {comb} {means[i]} {probs[i]}\")\n",
    "    print(f\"The mean of all sample means mu_x_hat is: {mean(means)}\")\n",
    "    print(f\"The standard error of the sample mean is: {standard_error}\")\n",
    "\n",
    "# Plotting the spread of sample means and standard error\n",
    "plt.figure(figsize=(12, 8))\n",
    "for i, means in enumerate(all_means):\n",
    "    plt.scatter([i+1]*len(means), means, label=f'Sample Size {i+1}')\n",
    "\n",
    "plt.errorbar(sample_sizes, [mean(means) for means in all_means], yerr=all_errors, fmt='o', color='black', label='Standard Error')\n",
    "\n",
    "plt.xlabel('Sample Size')\n",
    "plt.ylabel('Sample Means')\n",
    "plt.title('Spread of Sample Means and Standard Error with Varying Sample Sizes')\n",
    "plt.xticks(range(1, 6))\n",
    "plt.axhline(y=mean(pumpkin_dict.values()), color='r', linestyle='--', label='Population Mean')\n",
    "plt.legend()\n",
    "plt.grid(True)\n",
    "plt.tight_layout()\n",
    "plt.show()\n",
    "    # Calculate combinations, means as earlier, append to relevant lists\n",
    "\n",
    "    \n",
    "\n",
    "    # Calculate and append the standard error by dividing sample means with square root of sample size\n",
    "\n",
    "    \n",
    "\n",
    "    # Visualize sample spread and standard error values for each sample"
   ]
  },
  {
   "cell_type": "markdown",
   "metadata": {},
   "source": [
    "Thus, even though each sample may give you an answer involving some error, the expected value is right at the target: exactly the population mean. In other words, if one does the experiment over and over again, the overall average of the sample mean is exactly the population mean. If the sample size is increased, the standard error is reduced. \n",
    "\n",
    "According to the **Central Limit Theorem**, for a large sample size, `x_hat` is approximately normally distributed, regardless of the distribution of the population one samples from.\n",
    "\n",
    "## Summary\n",
    "\n",
    "In this lab, we saw how sampling statistics relate to population statistics. In order to estimate a population parameter (i.e. mean) with a high level of accuracy, We must reduce the spread or the sample error which is simply the standard deviation of the samples from the sample mean. The size of samples must be set carefully in order to avoid excessive values for standard error to gain a high level of confidence in our population estimates. "
   ]
  }
 ],
 "metadata": {
  "kernelspec": {
   "display_name": "Python 3 (ipykernel)",
   "language": "python",
   "name": "python3"
  },
  "language_info": {
   "codemirror_mode": {
    "name": "ipython",
    "version": 3
   },
   "file_extension": ".py",
   "mimetype": "text/x-python",
   "name": "python",
   "nbconvert_exporter": "python",
   "pygments_lexer": "ipython3",
   "version": "3.8.16"
  },
  "toc": {
   "base_numbering": 1,
   "nav_menu": {},
   "number_sections": true,
   "sideBar": true,
   "skip_h1_title": false,
   "title_cell": "Table of Contents",
   "title_sidebar": "Contents",
   "toc_cell": false,
   "toc_position": {},
   "toc_section_display": true,
   "toc_window_display": false
  }
 },
 "nbformat": 4,
 "nbformat_minor": 4
}
